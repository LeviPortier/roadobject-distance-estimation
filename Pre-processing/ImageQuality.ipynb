{
 "cells": [
  {
   "cell_type": "markdown",
   "id": "884a0938",
   "metadata": {},
   "source": [
    "### This is the code used to augment the image quality"
   ]
  },
  {
   "cell_type": "code",
   "execution_count": 61,
   "id": "a93a0149",
   "metadata": {},
   "outputs": [],
   "source": [
    "import os\n",
    "import numpy as np\n",
    "import random\n",
    "import cv2\n",
    "import matplotlib.pyplot as plt\n",
    "import glob\n",
    "from tqdm import tqdm\n",
    "import skimage\n",
    "\n",
    "\n",
    "#function to blur and add noise\n",
    "def blur_image(quality, img, save_path):\n",
    "    \n",
    "    name = os.path.basename(img)[:-15] + quality +'.png' #image name\n",
    "    \n",
    "    \n",
    "    image = cv2.imread(img,1)\n",
    "    image = cv2.cvtColor(image, cv2.COLOR_BGR2RGB)\n",
    "    \n",
    "    if quality == 'medium':\n",
    "        ksize = (5, 5) #kernel size to of gaussian blur\n",
    "        var = 0.01 #variance of speckles\n",
    "        \n",
    "    elif quality == 'low':\n",
    "        ksize = (7,7)\n",
    "        var =0.02\n",
    "  \n",
    "    # Using cv2.blur() method \n",
    "    image = cv2.blur(image, ksize) \n",
    "    image = cv2.cvtColor(image, cv2.COLOR_BGR2RGB)\n",
    "    \n",
    "    output = skimage.util.random_noise(image, mode='speckle', var = var)\n",
    "\n",
    "    \n",
    "    outpath= os.path.join(save_path, name)\n",
    "    \n",
    "    cv2.imwrite(outpath, output*255) #save the output"
   ]
  },
  {
   "cell_type": "code",
   "execution_count": 63,
   "id": "7e3799d2",
   "metadata": {},
   "outputs": [
    {
     "name": "stderr",
     "output_type": "stream",
     "text": [
      "100%|██████████████████████████████████████████████████████████████████████████████| 2100/2100 [44:07<00:00,  1.26s/it]\n"
     ]
    }
   ],
   "source": [
    "\n",
    "#define paths\n",
    "images = r'C:\\Users\\portierl4527\\ARCADIS\\Afstuderen Levi - Depth estimation - General\\Cityscapes-Sequence\\leftImg8bit_sequence_trainvaltest\\test'\n",
    "images = glob.glob(images+'/*.png')\n",
    "\n",
    "save_path = r'C:\\Users\\portierl4527\\ARCADIS\\Afstuderen Levi - Depth estimation - General\\Cityscapes-Sequence\\low_quality'\n",
    "\n",
    "for i in tqdm(images):\n",
    "    blur_image('low', i, save_path)\n",
    "    "
   ]
  }
 ],
 "metadata": {
  "kernelspec": {
   "display_name": "Python 3",
   "language": "python",
   "name": "python3"
  },
  "language_info": {
   "codemirror_mode": {
    "name": "ipython",
    "version": 3
   },
   "file_extension": ".py",
   "mimetype": "text/x-python",
   "name": "python",
   "nbconvert_exporter": "python",
   "pygments_lexer": "ipython3",
   "version": "3.8.3"
  }
 },
 "nbformat": 4,
 "nbformat_minor": 5
}
